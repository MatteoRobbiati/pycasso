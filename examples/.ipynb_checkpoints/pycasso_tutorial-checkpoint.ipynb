{
 "cells": [
  {
   "cell_type": "code",
   "execution_count": 21,
   "id": "5a6dfc7f-0d62-425d-88fb-19fc09919022",
   "metadata": {},
   "outputs": [],
   "source": [
    "from pycasso.workshop import Painter"
   ]
  },
  {
   "cell_type": "code",
   "execution_count": 16,
   "id": "9ec5c1dd-5570-42d0-b4ad-e5c038d34034",
   "metadata": {},
   "outputs": [],
   "source": [
    "from PIL import Image\n",
    "img = Image.open(\"images/picasso.jpg\")\n",
    "pixels = img.load()"
   ]
  },
  {
   "cell_type": "code",
   "execution_count": 23,
   "id": "6fafac7c-0cde-46d0-bec9-37e1ed4c378e",
   "metadata": {},
   "outputs": [],
   "source": [
    "pixels2 = deepcopy(img)"
   ]
  },
  {
   "cell_type": "code",
   "execution_count": 18,
   "id": "792f3d09-dcfe-45dc-a7e3-137f2bad1403",
   "metadata": {},
   "outputs": [],
   "source": [
    "pixels[0,2] = 34"
   ]
  },
  {
   "cell_type": "code",
   "execution_count": 20,
   "id": "02adf8a5-70ff-48c2-8f55-1efbde2d78e6",
   "metadata": {},
   "outputs": [
    {
     "data": {
      "text/plain": [
       "(34, 34)"
      ]
     },
     "execution_count": 20,
     "metadata": {},
     "output_type": "execute_result"
    }
   ],
   "source": [
    "pixels[0,2], pixels2[0,2]"
   ]
  },
  {
   "cell_type": "code",
   "execution_count": null,
   "id": "8e671b48-d64e-4cf0-a1fd-0a5368d0eca3",
   "metadata": {},
   "outputs": [],
   "source": []
  }
 ],
 "metadata": {
  "kernelspec": {
   "display_name": "Python 3 (ipykernel)",
   "language": "python",
   "name": "python3"
  },
  "language_info": {
   "codemirror_mode": {
    "name": "ipython",
    "version": 3
   },
   "file_extension": ".py",
   "mimetype": "text/x-python",
   "name": "python",
   "nbconvert_exporter": "python",
   "pygments_lexer": "ipython3",
   "version": "3.10.0"
  }
 },
 "nbformat": 4,
 "nbformat_minor": 5
}
